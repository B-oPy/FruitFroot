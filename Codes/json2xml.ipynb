{
 "cells": [
  {
   "cell_type": "code",
   "execution_count": null,
   "id": "1b1a4be1",
   "metadata": {},
   "outputs": [],
   "source": [
    "import tensorflow as tf\n",
    "import numpy as np\n",
    "import pandas as pd\n",
    "pd.options.display.float_format = '{:.5f}'.format\n",
    "\n",
    "import cv2\n",
    "import os\n",
    "import glob\n",
    "# use gpu\n",
    "# os.environ[\"CUDA_VISIBLE_DEVICES\"]=\"0\"\n",
    "\n",
    "import math\n",
    "import scipy as sp\n",
    "import PIL\n",
    "from PIL import Image, ImageOps\n",
    "import copy\n",
    "import itertools\n",
    "\n",
    "# Tensorflow\n",
    "import tensorflow as tf\n",
    "from tensorflow.keras import models, layers, Model\n",
    "from tensorflow.keras.models import Sequential, load_model\n",
    "from tensorflow.keras.layers import Conv2D, MaxPooling2D\n",
    "from tensorflow.keras.layers import Dense, Dropout, Flatten, GlobalAveragePooling2D\n",
    "from tensorflow.keras.layers import Flatten, Dense, Dropout, ZeroPadding2D\n",
    "\n",
    "from tensorflow.keras.preprocessing.image import ImageDataGenerator\n",
    "from tensorflow.keras.callbacks import ModelCheckpoint, TensorBoard, ReduceLROnPlateau\n",
    "from tensorflow.keras import optimizers\n",
    "from tensorflow.keras.optimizers import SGD\n",
    "from tensorflow.keras.models import Model\n",
    "from tensorflow.keras.preprocessing import image\n",
    "from tensorflow.keras.applications import EfficientNetB4, EfficientNetB6, ResNet50V2\n",
    "#from keras_tuner.tuners import RandomSearch\n",
    "\n",
    "import scikitplot as skplt\n",
    "from sklearn.metrics import roc_auc_score\n",
    "import matplotlib.pyplot as plt\n",
    "\n",
    "# split dataset\n",
    "import splitfolders\n",
    "\n",
    "# ignore warnings\n",
    "import warnings\n",
    "warnings.filterwarnings(action='ignore')\n",
    "\n",
    "# flask\n",
    "from flask import Flask\n",
    "from flask import render_template\n",
    "from flask import request\n",
    "\n",
    "# json \n",
    "import json\n",
    "import xmltodict\n",
    "from json2xml import json2xml\n",
    "from pandas.io.json import json_normalize\n",
    "import xml.etree.ElementTree as ET\n",
    "from xml.etree.ElementTree import Element, SubElement, ElementTree"
   ]
  },
  {
   "cell_type": "code",
   "execution_count": 2,
   "id": "1fe651bf",
   "metadata": {
    "ExecuteTime": {
     "end_time": "2022-07-27T07:06:29.965253Z",
     "start_time": "2022-07-27T07:06:29.957853Z"
    }
   },
   "outputs": [],
   "source": [
    "def json_to_dataframe(folder_dir) :\n",
    "    file_list = os.listdir(folder_dir)\n",
    "    df = pd.DataFrame()\n",
    "    for i in file_list:\n",
    "        with open(folder_dir+i, 'r') as f:\n",
    "            dict = json.loads(f.read())\n",
    "            df1 = pd.json_normalize(dict['description']) \n",
    "            df2 = pd.json_normalize(dict['annotations']) \n",
    "            df3 = pd.DataFrame(pd.concat([df1,df2], axis=1))\n",
    "            df = pd.concat([df,df3], axis=0)\n",
    "        df.reset_index(drop=True, inplace=True)\n",
    "    return df"
   ]
  },
  {
   "cell_type": "code",
   "execution_count": 3,
   "id": "6de42357",
   "metadata": {
    "ExecuteTime": {
     "end_time": "2022-07-27T07:06:30.525273Z",
     "start_time": "2022-07-27T07:06:30.506270Z"
    }
   },
   "outputs": [],
   "source": [
    "def json2xml(folder_dir, destination):\n",
    "    file_list = os.listdir(folder_dir)\n",
    "    for i in file_list:\n",
    "        with open(folder_dir+i, 'r') as f:\n",
    "            data = json.loads(f.read()) \n",
    "        root = ET.Element(\"root\")\n",
    "        desc = ET.SubElement(root, \"description\")\n",
    "        ET.SubElement(desc, \"image\").text = str(data[\"description\"][\"image\"])\n",
    "        ET.SubElement(desc, \"height\").text = str(data[\"description\"][\"height\"])\n",
    "        ET.SubElement(desc, \"width\").text = str(data[\"description\"][\"width\"])\n",
    "        \n",
    "        annot = ET.SubElement(root, \"annotations\")    \n",
    "        ET.SubElement(annot, \"disease\").text = str(data[\"annotations\"][\"disease\"])\n",
    "        ET.SubElement(annot, \"crop\").text = str(data[\"annotations\"][\"crop\"])\n",
    "        ET.SubElement(annot, \"area\").text = str(data[\"annotations\"][\"area\"])\n",
    "        ET.SubElement(annot, \"grow\").text = str(data[\"annotations\"][\"grow\"])\n",
    "        ET.SubElement(annot, \"risk\").text = str(data[\"annotations\"][\"risk\"])\n",
    "        ET.SubElement(annot, \"points\").text = str(data[\"annotations\"][\"points\"][0])\n",
    "        tree = ET.ElementTree(root)\n",
    "        tree.write(destination + i + \".xml\")\n",
    "    print(\"Conversion completed\")\n",
    "        \n",
    "    file_names = os.listdir(destination)\n",
    "    for name in file_names:\n",
    "        src = os.path.join(destination, name)\n",
    "        dst = os.path.basename(name).replace('.jpg.json.xml', '.xml').replace('.JPG.json.xml', '.xml')\n",
    "        dst = os.path.join(destination, dst)\n",
    "        os.rename(src, dst)\n",
    "    print(\"Renaming completed\")"
   ]
  },
  {
   "cell_type": "code",
   "execution_count": 264,
   "id": "27761527",
   "metadata": {
    "ExecuteTime": {
     "end_time": "2022-07-27T06:38:07.357004Z",
     "start_time": "2022-07-27T06:38:07.313998Z"
    }
   },
   "outputs": [
    {
     "ename": "TypeError",
     "evalue": "Element() argument 2 must be dict, not str",
     "output_type": "error",
     "traceback": [
      "\u001b[1;31m---------------------------------------------------------------------------\u001b[0m",
      "\u001b[1;31mTypeError\u001b[0m                                 Traceback (most recent call last)",
      "Input \u001b[1;32mIn [264]\u001b[0m, in \u001b[0;36m<cell line: 1>\u001b[1;34m()\u001b[0m\n\u001b[1;32m----> 1\u001b[0m \u001b[43mjson2xml\u001b[49m\u001b[43m(\u001b[49m\u001b[38;5;124;43m'\u001b[39;49m\u001b[38;5;124;43m./Training/새 폴더/\u001b[39;49m\u001b[38;5;124;43m'\u001b[39;49m\u001b[43m,\u001b[49m\u001b[43m \u001b[49m\u001b[38;5;124;43m'\u001b[39;49m\u001b[38;5;124;43m./Training/새 폴더 (2)/\u001b[39;49m\u001b[38;5;124;43m'\u001b[39;49m\u001b[43m)\u001b[49m\n",
      "Input \u001b[1;32mIn [263]\u001b[0m, in \u001b[0;36mjson2xml\u001b[1;34m(folder_dir, destination)\u001b[0m\n\u001b[0;32m      5\u001b[0m             data \u001b[38;5;241m=\u001b[39m json\u001b[38;5;241m.\u001b[39mloads(f\u001b[38;5;241m.\u001b[39mread()) \n\u001b[0;32m      6\u001b[0m \u001b[38;5;66;03m#         root = ET.Element(\"root\")\u001b[39;00m\n\u001b[1;32m----> 7\u001b[0m         desc \u001b[38;5;241m=\u001b[39m \u001b[43mET\u001b[49m\u001b[38;5;241;43m.\u001b[39;49m\u001b[43mElement\u001b[49m\u001b[43m(\u001b[49m\u001b[43mroot\u001b[49m\u001b[43m,\u001b[49m\u001b[43m \u001b[49m\u001b[38;5;124;43m\"\u001b[39;49m\u001b[38;5;124;43mdescription\u001b[39;49m\u001b[38;5;124;43m\"\u001b[39;49m\u001b[43m)\u001b[49m\n\u001b[0;32m      8\u001b[0m         ET\u001b[38;5;241m.\u001b[39mSubElement(desc, \u001b[38;5;124m\"\u001b[39m\u001b[38;5;124mimage\u001b[39m\u001b[38;5;124m\"\u001b[39m)\u001b[38;5;241m.\u001b[39mtext \u001b[38;5;241m=\u001b[39m \u001b[38;5;28mstr\u001b[39m(data[\u001b[38;5;124m\"\u001b[39m\u001b[38;5;124mdescription\u001b[39m\u001b[38;5;124m\"\u001b[39m][\u001b[38;5;124m\"\u001b[39m\u001b[38;5;124mimage\u001b[39m\u001b[38;5;124m\"\u001b[39m])\n\u001b[0;32m      9\u001b[0m         ET\u001b[38;5;241m.\u001b[39mSubElement(desc, \u001b[38;5;124m\"\u001b[39m\u001b[38;5;124mheight\u001b[39m\u001b[38;5;124m\"\u001b[39m)\u001b[38;5;241m.\u001b[39mtext \u001b[38;5;241m=\u001b[39m \u001b[38;5;28mstr\u001b[39m(data[\u001b[38;5;124m\"\u001b[39m\u001b[38;5;124mdescription\u001b[39m\u001b[38;5;124m\"\u001b[39m][\u001b[38;5;124m\"\u001b[39m\u001b[38;5;124mheight\u001b[39m\u001b[38;5;124m\"\u001b[39m])\n",
      "\u001b[1;31mTypeError\u001b[0m: Element() argument 2 must be dict, not str"
     ]
    }
   ],
   "source": [
    "json2xml('./Training/새 폴더/', './Training/새 폴더 (2)/')"
   ]
  },
  {
   "cell_type": "code",
   "execution_count": 4,
   "id": "37e738b8",
   "metadata": {
    "ExecuteTime": {
     "end_time": "2022-07-27T07:06:38.501626Z",
     "start_time": "2022-07-27T07:06:33.353478Z"
    }
   },
   "outputs": [
    {
     "name": "stderr",
     "output_type": "stream",
     "text": [
      "\n",
      "KeyboardInterrupt\n",
      "\n"
     ]
    }
   ],
   "source": [
    "json2xml('./Training/원본/[라벨]사과_1.질병/', './static/xml/Train/사과_1.질병/')"
   ]
  },
  {
   "cell_type": "code",
   "execution_count": 262,
   "id": "cf487039",
   "metadata": {
    "ExecuteTime": {
     "end_time": "2022-07-27T06:37:28.317829Z",
     "start_time": "2022-07-27T06:37:25.063102Z"
    }
   },
   "outputs": [
    {
     "name": "stdout",
     "output_type": "stream",
     "text": [
      "Conversion completed\n",
      "Renaming completed\n"
     ]
    }
   ],
   "source": [
    "json2xml('./Validation/원본/[라벨]사과_1.질병/', './static/xml/Test/사과_1.질병/')"
   ]
  },
  {
   "cell_type": "code",
   "execution_count": 251,
   "id": "e7a13fca",
   "metadata": {
    "ExecuteTime": {
     "end_time": "2022-07-27T06:19:27.194503Z",
     "start_time": "2022-07-27T06:19:27.145493Z"
    }
   },
   "outputs": [
    {
     "data": {
      "text/plain": [
       "{'root': {'description': {'image': 'V006_80_0_00_01_05_26_0_c16_20201207_0029_S01_1.JPG'},\n",
       "  'annotations': {'disease': '0',\n",
       "   'crop': '1',\n",
       "   'area': '5',\n",
       "   'grow': '26',\n",
       "   'risk': '0',\n",
       "   'points': \"{'xtl': 1067, 'ytl': 0, 'xbr': 2112, 'ybr': 4031}\"}}}"
      ]
     },
     "execution_count": 251,
     "metadata": {},
     "output_type": "execute_result"
    }
   ],
   "source": [
    "xmls_root =\"./static/xml/Train/배_0.정상/\"  \n",
    "jpegs = './Training/원본/배_0.정상/'\n",
    "XMLs = os.listdir(xmls_root)\n",
    "ix = np.random.randint(len(XMLs))\n",
    "sample_xml = XMLs[ix]\n",
    "sample_xml = '{}/{}'.format(xmls_root, sample_xml)\n",
    "with open(sample_xml, \"rb\") as f:    \n",
    "    d = xmltodict.parse(f, xml_attribs=True)\n",
    "\n",
    "d"
   ]
  },
  {
   "cell_type": "code",
   "execution_count": 33,
   "id": "702c1c5b",
   "metadata": {
    "ExecuteTime": {
     "end_time": "2022-07-27T00:56:05.829731Z",
     "start_time": "2022-07-27T00:56:05.819729Z"
    }
   },
   "outputs": [],
   "source": [
    "# Labeled data folder paths \n",
    "pear0_path = './Training/원본/[라벨]배_0.정상/'\n",
    "pear1_path = './Training/원본/[라벨]배_1.질병/'\n",
    "apple0_path = './Training/원본/[라벨]사과_0.정상/'\n",
    "apple1_path = './Training/원본/[라벨]사과_1.질병/'"
   ]
  },
  {
   "cell_type": "code",
   "execution_count": 34,
   "id": "585e99ce",
   "metadata": {
    "ExecuteTime": {
     "end_time": "2022-07-27T01:08:07.849241Z",
     "start_time": "2022-07-27T00:56:09.723828Z"
    }
   },
   "outputs": [],
   "source": [
    "pear0_df = json_to_dataframe(pear0_path)\n",
    "pear1_df = json_to_dataframe(pear1_path)\n",
    "apple0_df = json_to_dataframe(apple0_path)\n",
    "apple1_df = json_to_dataframe(apple1_path)"
   ]
  },
  {
   "cell_type": "code",
   "execution_count": null,
   "id": "ece34824",
   "metadata": {},
   "outputs": [],
   "source": []
  }
 ],
 "metadata": {
  "kernelspec": {
   "display_name": "Python 3 (ipykernel)",
   "language": "python",
   "name": "python3"
  },
  "language_info": {
   "codemirror_mode": {
    "name": "ipython",
    "version": 3
   },
   "file_extension": ".py",
   "mimetype": "text/x-python",
   "name": "python",
   "nbconvert_exporter": "python",
   "pygments_lexer": "ipython3",
   "version": "3.9.12"
  },
  "toc": {
   "base_numbering": 1,
   "nav_menu": {},
   "number_sections": true,
   "sideBar": true,
   "skip_h1_title": false,
   "title_cell": "Table of Contents",
   "title_sidebar": "Contents",
   "toc_cell": false,
   "toc_position": {},
   "toc_section_display": true,
   "toc_window_display": false
  }
 },
 "nbformat": 4,
 "nbformat_minor": 5
}
